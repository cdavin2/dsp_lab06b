{
 "cells": [
  {
   "cell_type": "markdown",
   "metadata": {},
   "source": [
    "<h1><center>\n",
    "    ECE 438 - Laboratory 6b<br/>\n",
    "    Discrete Fourier Transform and Fast Fourier Transform Algorithms (Week 2)<br/>\n",
    "    <small>Last updated on February 27, 2022</small><br/>\n",
    "    <br/>\n",
    "    Date:<br/>\n",
    "    Section:<br/>\n",
    "</center></h1>"
   ]
  },
  {
   "cell_type": "markdown",
   "metadata": {},
   "source": [
    "|Name |Signature |Time spent outside lab|\n",
    "|:---:|:---:|:---:|\n",
    "|Student Name #1 [---%]| | |\n",
    "|Student Name #2 [---%]| | |"
   ]
  },
  {
   "cell_type": "markdown",
   "metadata": {},
   "source": [
    "||Below expectations| Lacks in some respect|Meets all expectations|\n",
    "|:---:|:---:|:---:|:---:|\n",
    "|**Completeness of the report**||||\n",
    "|**Organization of the report**||||\n",
    "|**Quality of figures**: *Correctly labeled with title, x-axis, y-axis, and name(s)*||||\n",
    "|**Understanding of the frequency range of DFT and effects of zero-padding (50 pts)**: *DFT and DTFT plots, Python code (DTFTsamples), questions*||||\n",
    "|**Implementation of Divide-and-Conquer DFT and FFT (50 pts)**: *Python codes (dcDFT, fft2, fft4, fft8, fft_stages), questions*||||"
   ]
  },
  {
   "cell_type": "code",
   "execution_count": null,
   "metadata": {},
   "outputs": [],
   "source": [
    "import numpy as np\n",
    "import matplotlib.pyplot as plt\n",
    "from helper import DTFT, DFTsum, hamming"
   ]
  },
  {
   "cell_type": "code",
   "execution_count": null,
   "metadata": {},
   "outputs": [],
   "source": [
    "# make sure the plot is displayed in this notebook\n",
    "%matplotlib inline\n",
    "# specify the size of the plot\n",
    "plt.rcParams['figure.figsize'] = (16, 6)\n",
    "\n",
    "# for auto-reloading extenrnal modules\n",
    "%load_ext autoreload\n",
    "%autoreload 2"
   ]
  },
  {
   "cell_type": "markdown",
   "metadata": {},
   "source": [
    "<h3 style=\"color:red;\"><left>Exercise 2.1: Shifting the Frequency Range</left></h3>"
   ]
  },
  {
   "cell_type": "markdown",
   "metadata": {},
   "source": [
    "**1. Create a Hamming window ```x``` of length ```N = 20```, using the provided function `hamming()`, then compute the 20 point DFT of `x` using the provided function `DFTsum()`, and finally, plot the magnitude of the DFT, $|X_{20}(k)|$, versus the index $k$.**"
   ]
  },
  {
   "cell_type": "code",
   "execution_count": null,
   "metadata": {},
   "outputs": [],
   "source": [
    "# insert your code here\n"
   ]
  },
  {
   "cell_type": "markdown",
   "metadata": {},
   "source": [
    "**2. Complete the function `DTFTsamples` below to compute the samples of the DTFT and their corresponding frequencies.**\n",
    "\n",
    "**Note:** Your function ```DTFTsamples(x)``` should call your function `DFTsum()` and use the function ```np.fft.fftshift()```."
   ]
  },
  {
   "cell_type": "code",
   "execution_count": null,
   "metadata": {},
   "outputs": [],
   "source": [
    "def DTFTsamples(x):\n",
    "    \"\"\"\n",
    "    Compute samples of the DTFT and their corresponding frequencies in the range -np.pi to np.pi\n",
    "    \n",
    "    Parameters:\n",
    "    ---\n",
    "    x: an N-point vector\n",
    "    \n",
    "    Returns:\n",
    "    ---\n",
    "    X: the length N vector of DTFT samples\n",
    "    w: he length N vector of corresponding radial frequencies\n",
    "    \"\"\"\n",
    "    X = None\n",
    "    w = None\n",
    "    return X, w"
   ]
  },
  {
   "cell_type": "markdown",
   "metadata": {},
   "source": [
    "**3. Use your function ```DTFTsamples``` to compute DTFT samples of the Hamming window of length $N = 20$. Plot the magnitude of these DTFT samples versus frequency in rad/sample.**"
   ]
  },
  {
   "cell_type": "code",
   "execution_count": null,
   "metadata": {},
   "outputs": [],
   "source": [
    "# insert your code here\n"
   ]
  },
  {
   "cell_type": "markdown",
   "metadata": {},
   "source": [
    "<h3 style=\"color:red;\"><left>Exercise 2.2: Zero Padding</left></h3>"
   ]
  },
  {
   "cell_type": "markdown",
   "metadata": {},
   "source": [
    "**1. For $N=50$, compute the vector $x$ containing the values $x[0],\\dots, x[N − 1]$, then compute the samples of $X[k]$ using your function ```DTFTsamples()```, and finally plot the magnitude of the DTFT samples versus frequency in rad/sample.**"
   ]
  },
  {
   "cell_type": "code",
   "execution_count": null,
   "metadata": {},
   "outputs": [],
   "source": [
    "# insert your code here\n"
   ]
  },
  {
   "cell_type": "markdown",
   "metadata": {},
   "source": [
    "**2. For $N=100$, compute the vector $x$ containing the values $x[0],\\dots, x[N − 1]$, then compute the samples of $X[k]$ using your function ```DTFTsamples()```, and finally plot the magnitude of the DTFT samples versus frequency in rad/sample.**"
   ]
  },
  {
   "cell_type": "code",
   "execution_count": null,
   "metadata": {},
   "outputs": [],
   "source": [
    "# insert your code here\n"
   ]
  },
  {
   "cell_type": "markdown",
   "metadata": {},
   "source": [
    "**3. Which plot looks more like the true DTFT?**"
   ]
  },
  {
   "cell_type": "markdown",
   "metadata": {},
   "source": [
    "insert your answer here"
   ]
  },
  {
   "cell_type": "markdown",
   "metadata": {},
   "source": [
    "**3. Explain why the plots look so different.**"
   ]
  },
  {
   "cell_type": "markdown",
   "metadata": {},
   "source": [
    "insert your answer here"
   ]
  },
  {
   "cell_type": "markdown",
   "metadata": {},
   "source": [
    "<h3 style=\"color:red;\"><left>Exercise 3.1: Implementation of Divide-and-Conquer DFT</left></h3>"
   ]
  },
  {
   "cell_type": "markdown",
   "metadata": {},
   "source": [
    "**1. Complete the function `dcDFT` below.**"
   ]
  },
  {
   "cell_type": "code",
   "execution_count": null,
   "metadata": {},
   "outputs": [],
   "source": [
    "def dcDFT(x):\n",
    "    \"\"\"\n",
    "    Parameters:\n",
    "    ---\n",
    "    x: a vector of even length N\n",
    "    \n",
    "    Returns: the DFT of x\n",
    "    \"\"\"\n",
    "    \n",
    "    # Step 1\n",
    "    # Separate the samples of x into even and odd points.\n",
    "    # Hint: The Python function x0 = x[0:N:2] can be used to obtain the “even” points.\n",
    "    \n",
    "    # Step 2\n",
    "    # Use your function DFTsum to compute the two N/2 point DFT’s.\n",
    "    \n",
    "    # Step 3\n",
    "    # Multiply by the twiddle factors$\n",
    "    \n",
    "    # Step 4\n",
    "    # Combine the two DFT’s to form X\n",
    "    \n",
    "    X = None\n",
    "    return X"
   ]
  },
  {
   "cell_type": "markdown",
   "metadata": {},
   "source": [
    "**2. Test your function ```dcDFT``` by using it to compute and plot the DFT’s of the following signals:**\n",
    "\n",
    "* $x[n]=\\delta[n]$ for $N=10$\n",
    "* $x[n]=1$ for $N=10$\n",
    "* $x[n]=e^{j2\\pi n/10}$ for $N=10$\n",
    "\n",
    "**Make sure you plot the results in separate cells.**"
   ]
  },
  {
   "cell_type": "code",
   "execution_count": null,
   "metadata": {},
   "outputs": [],
   "source": [
    "# first signal\n"
   ]
  },
  {
   "cell_type": "code",
   "execution_count": null,
   "metadata": {},
   "outputs": [],
   "source": [
    "# second signal\n"
   ]
  },
  {
   "cell_type": "code",
   "execution_count": null,
   "metadata": {},
   "outputs": [],
   "source": [
    "# third signal\n"
   ]
  },
  {
   "cell_type": "markdown",
   "metadata": {},
   "source": [
    "**3. Determine the number of multiplies that are required in this approach to computing an $N$ point DFT. (Consider a multiply to be one multiplication of real or complex numbers.)**\n",
    "\n",
    "**Hint:** Refer to the diagram of Figure 1, and remember to consider the $N/2$ point DFTs."
   ]
  },
  {
   "cell_type": "markdown",
   "metadata": {},
   "source": [
    "insert your answer here"
   ]
  },
  {
   "cell_type": "markdown",
   "metadata": {},
   "source": [
    "<h3 style=\"color:red;\"><left>Exercise 3.2: Recursive Divide and Conquer (Part 1)</left></h3>"
   ]
  },
  {
   "cell_type": "markdown",
   "metadata": {},
   "source": [
    "**1. Complete the Python functions below to compute the $2$, $4$, and $8$-point FFT’s.**\n",
    "\n",
    "**Note:** The function ```FFT2``` should directly compute the $2$-point DFT using (13), but the functions ```FFT4``` and ```FFT8``` should compute their respective FFT’s using the divide and conquer strategy. This means that ```FFT8``` should call ```FFT4```, and ```FFT4``` should call ```FFT2```."
   ]
  },
  {
   "cell_type": "code",
   "execution_count": null,
   "metadata": {},
   "outputs": [],
   "source": [
    "def FFT2(x):\n",
    "    \"\"\"\n",
    "    Parameters:\n",
    "    ---\n",
    "    x: the input signal\n",
    "    \n",
    "    Returns:\n",
    "    ---\n",
    "    X: the 2-point DFT of x\n",
    "    \"\"\"\n",
    "    X = None\n",
    "    return X"
   ]
  },
  {
   "cell_type": "code",
   "execution_count": null,
   "metadata": {},
   "outputs": [],
   "source": [
    "def FFT4(x):\n",
    "    \"\"\"\n",
    "    Parameters:\n",
    "    ---\n",
    "    x: the input signal\n",
    "    \n",
    "    Returns:\n",
    "    ---\n",
    "    X: the 4-point DFT of x\n",
    "    \"\"\"\n",
    "    X = None\n",
    "    return X"
   ]
  },
  {
   "cell_type": "code",
   "execution_count": null,
   "metadata": {},
   "outputs": [],
   "source": [
    "def FFT8(x):\n",
    "    \"\"\"\n",
    "    Parameters:\n",
    "    ---\n",
    "    x: the input signal\n",
    "    \n",
    "    Returns:\n",
    "    ---\n",
    "    X: the 8-point DFT of x\n",
    "    \"\"\"\n",
    "    X = None\n",
    "    return X"
   ]
  },
  {
   "cell_type": "markdown",
   "metadata": {},
   "source": [
    "**2. Test your function ```FFT8``` by using it to compute the DFT’s of the following signals. Compare these results to the previous ones.**\n",
    "\n",
    "* $x[n]=\\delta[n]$ for $N=8$\n",
    "* $x[n]=1$ for $N=8$\n",
    "* $x[n]=e^{j2\\pi n/8}$ for $N=8$\n",
    "\n",
    "**Make sure you plot the results in separate cells.**"
   ]
  },
  {
   "cell_type": "code",
   "execution_count": null,
   "metadata": {},
   "outputs": [],
   "source": [
    "# first signal\n"
   ]
  },
  {
   "cell_type": "code",
   "execution_count": null,
   "metadata": {},
   "outputs": [],
   "source": [
    "# second signal\n"
   ]
  },
  {
   "cell_type": "code",
   "execution_count": null,
   "metadata": {},
   "outputs": [],
   "source": [
    "# third signal\n"
   ]
  },
  {
   "cell_type": "markdown",
   "metadata": {},
   "source": [
    "**3. List the output (not plot) of ```FFT8``` for the case $x[n] = 1$ for $N = 8$.**"
   ]
  },
  {
   "cell_type": "code",
   "execution_count": null,
   "metadata": {},
   "outputs": [],
   "source": [
    "# insert your code here\n"
   ]
  },
  {
   "cell_type": "markdown",
   "metadata": {},
   "source": [
    "**4. Calculate the total number of multiplies by twiddle factors required for your 8-point FFT. (A multiply is a multiplication by a real or complex number.)**"
   ]
  },
  {
   "cell_type": "markdown",
   "metadata": {},
   "source": [
    "insert your answer here"
   ]
  },
  {
   "cell_type": "markdown",
   "metadata": {},
   "source": [
    "**5. Determine a formula for the number of multiplies required for an $N = 2^p$ point FFT. Leave the expression in terms of $N$ and $p$. How does this compare to the number of multiplies required for direct implementation when $p = 10$?**"
   ]
  },
  {
   "cell_type": "markdown",
   "metadata": {},
   "source": [
    "insert your answer here"
   ]
  },
  {
   "cell_type": "markdown",
   "metadata": {},
   "source": [
    "<h3 style=\"color:red;\"><left>Exercise 3.3: Recursive Divide and Conquer (Part 2)</left></h3>"
   ]
  },
  {
   "cell_type": "markdown",
   "metadata": {},
   "source": [
    "**1. Complete the recursive function `fft_stage` below to perform one stage of the FFT algorithm for a power-of-2 length signal.**\n",
    "\n",
    "**Note:** the body of this function should look very similar to previous functions written in this lab."
   ]
  },
  {
   "cell_type": "code",
   "execution_count": null,
   "metadata": {},
   "outputs": [],
   "source": [
    "def fft_stage(x):\n",
    "    \"\"\"\n",
    "    Performs one stage of the FFT algorithm for a power-of-2 length signal\n",
    "    \n",
    "    Parameters:\n",
    "    ---\n",
    "    x: a power-of-2 length signal\n",
    "    \n",
    "    Returns:\n",
    "    ---\n",
    "    X: the DFT of the inpu signal\n",
    "    \"\"\"\n",
    "    \n",
    "    # Step 1\n",
    "    # Determine the length of the input signal.\n",
    "    \n",
    "    # Step 2\n",
    "    # If N == 2, then the function should just compute the 2-pt DFT as in equation (13), and then return.\n",
    "    \n",
    "    # Step 3\n",
    "    # If N > 2, then the function should perform the FFT steps described previously \n",
    "    # (i.e. decimate, compute (N/2)-pt DFTs, re-combine), \n",
    "    # calling fft_stage(x) to compute the (N/2)-pt DFTs.\n",
    "    \n",
    "    X = None\n",
    "    return X"
   ]
  },
  {
   "cell_type": "markdown",
   "metadata": {},
   "source": [
    "**2. Test ```fft_stage(x)``` on the three 8-point signals given above, and verify that it returns the same results as ```FFT8(x)```.**\n",
    "\n",
    "**Make sure you plot the results in separate cells.**"
   ]
  },
  {
   "cell_type": "code",
   "execution_count": null,
   "metadata": {},
   "outputs": [],
   "source": [
    "# first signal\n"
   ]
  },
  {
   "cell_type": "code",
   "execution_count": null,
   "metadata": {},
   "outputs": [],
   "source": [
    "# second signal\n"
   ]
  },
  {
   "cell_type": "code",
   "execution_count": null,
   "metadata": {},
   "outputs": [],
   "source": [
    "# third signal\n"
   ]
  },
  {
   "cell_type": "markdown",
   "metadata": {},
   "source": [
    "<h2 style=\"color:salmon;\"><left>4. References</left></h2>"
   ]
  },
  {
   "cell_type": "markdown",
   "metadata": {},
   "source": [
    "[1] J. W. Cooley and J. W. Tukey, “An algorithm for the machine calculation of complex\n",
    "Fourier series,” Mathematics of Computation, vol. 19, no. 90, p. 297-301, April 1965."
   ]
  }
 ],
 "metadata": {
  "kernelspec": {
   "display_name": "Python 3 (ipykernel)",
   "language": "python",
   "name": "python3"
  },
  "language_info": {
   "codemirror_mode": {
    "name": "ipython",
    "version": 3
   },
   "file_extension": ".py",
   "mimetype": "text/x-python",
   "name": "python",
   "nbconvert_exporter": "python",
   "pygments_lexer": "ipython3",
   "version": "3.8.1"
  }
 },
 "nbformat": 4,
 "nbformat_minor": 2
}
