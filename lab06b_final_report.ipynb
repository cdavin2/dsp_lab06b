{
  "cells": [
    {
      "cell_type": "markdown",
      "metadata": {
        "id": "KBAwPFhCNoSt"
      },
      "source": [
        "<h1><center>\n",
        "    ECE 438 - Laboratory 6b<br/>\n",
        "    Discrete Fourier Transform and Fast Fourier Transform Algorithms (Week 2)<br/>\n",
        "    <small>Last updated on February 27, 2022</small><br/>\n",
        "    <br/>\n",
        "    Date: March 2, 2023<br/>\n",
        "    Section: Thursday 11:30 am<br/>\n",
        "</center></h1>"
      ]
    },
    {
      "cell_type": "markdown",
      "metadata": {
        "id": "dbBFGu1cNoSv"
      },
      "source": [
        "|Name |Signature |Time spent outside lab|\n",
        "|:---:|:---:|:---:|\n",
        "|Connor Davin| CJD | .5 hours|"
      ]
    },
    {
      "cell_type": "markdown",
      "metadata": {
        "id": "ifqYxRshNoSw"
      },
      "source": [
        "||Below expectations| Lacks in some respect|Meets all expectations|\n",
        "|:---:|:---:|:---:|:---:|\n",
        "|**Completeness of the report**||||\n",
        "|**Organization of the report**||||\n",
        "|**Quality of figures**: *Correctly labeled with title, x-axis, y-axis, and name(s)*||||\n",
        "|**Understanding of the frequency range of DFT and effects of zero-padding (50 pts)**: *DFT and DTFT plots, Python code (DTFTsamples), questions*||||\n",
        "|**Implementation of Divide-and-Conquer DFT and FFT (50 pts)**: *Python codes (dcDFT, fft2, fft4, fft8, fft_stages), questions*||||"
      ]
    },
    {
      "cell_type": "code",
      "execution_count": 92,
      "metadata": {
        "id": "mAXGPVn7NoSw"
      },
      "outputs": [],
      "source": [
        "import numpy as np\n",
        "import matplotlib.pyplot as plt\n",
        "from helper import DTFT, DFTsum, hamming"
      ]
    },
    {
      "cell_type": "code",
      "execution_count": 93,
      "metadata": {
        "colab": {
          "base_uri": "https://localhost:8080/"
        },
        "id": "5Pv7SaJQNoSx",
        "outputId": "671bb8aa-147c-42c0-9062-bfa06eae286f"
      },
      "outputs": [
        {
          "output_type": "stream",
          "name": "stdout",
          "text": [
            "The autoreload extension is already loaded. To reload it, use:\n",
            "  %reload_ext autoreload\n"
          ]
        }
      ],
      "source": [
        "# make sure the plot is displayed in this notebook\n",
        "%matplotlib inline\n",
        "# specify the size of the plot\n",
        "plt.rcParams['figure.figsize'] = (16, 6)\n",
        "\n",
        "# for auto-reloading extenrnal modules\n",
        "%load_ext autoreload\n",
        "%autoreload 2"
      ]
    },
    {
      "cell_type": "markdown",
      "metadata": {
        "id": "auDAS55HNoSy"
      },
      "source": [
        "<h3 style=\"color:red;\"><left>Exercise 2.1: Shifting the Frequency Range</left></h3>"
      ]
    },
    {
      "cell_type": "markdown",
      "metadata": {
        "id": "BaIzyzCjNoSy"
      },
      "source": [
        "**1. Create a Hamming window ```x``` of length ```N = 20```, using the provided function `hamming()`, then compute the 20 point DFT of `x` using the provided function `DFTsum()`, and finally, plot the magnitude of the DFT, $|X_{20}(k)|$, versus the index $k$.**"
      ]
    },
    {
      "cell_type": "code",
      "execution_count": 94,
      "metadata": {
        "colab": {
          "base_uri": "https://localhost:8080/",
          "height": 404
        },
        "id": "eY9UQ0yGNoSy",
        "outputId": "4cfc60e4-2517-4e2c-857c-e26554a46845"
      },
      "outputs": [
        {
          "output_type": "display_data",
          "data": {
            "text/plain": [
              "<Figure size 1152x432 with 1 Axes>"
            ],
            "image/png": "[encoded data removed]"
          },
          "metadata": {
            "needs_background": "light"
          }
        }
      ],
      "source": [
        "# insert your code here\n",
        "N = 20\n",
        "hamm_window = hamming(N)\n",
        "hamm_window_dft = DFTsum(hamm_window)\n",
        "\n",
        "plt.title(\"Magnitude of Hamming Window DFT with N = 20\")\n",
        "plt.ylabel(\"Magnitude DFT\")\n",
        "plt.xlabel(\"k\")\n",
        "plt.stem(np.abs(hamm_window_dft))\n",
        "plt.show()\n",
        "\n"
      ]
    },
    {
      "cell_type": "markdown",
      "metadata": {
        "id": "nARq-uinNoSy"
      },
      "source": [
        "**2. Complete the function `DTFTsamples` below to compute the samples of the DTFT and their corresponding frequencies.**\n",
        "\n",
        "**Note:** Your function ```DTFTsamples(x)``` should call your function `DFTsum()` and use the function ```np.fft.fftshift()```."
      ]
    },
    {
      "cell_type": "code",
      "execution_count": 95,
      "metadata": {
        "id": "lJ4LBx6-NoSz"
      },
      "outputs": [],
      "source": [
        "def DTFTsamples(x):\n",
        "    \"\"\"\n",
        "    Compute samples of the DTFT and their corresponding frequencies in the range -np.pi to np.pi\n",
        "    \n",
        "    Parameters:\n",
        "    ---\n",
        "    x: an N-point vector\n",
        "    \n",
        "    Returns:\n",
        "    ---\n",
        "    X: the length N vector of DTFT samples\n",
        "    w: he length N vector of corresponding radial frequencies\n",
        "    \"\"\"\n",
        "    N = len(x)\n",
        "    k = np.arange(N)\n",
        "\n",
        "    X = DFTsum(x)\n",
        "    w = 2 * np.pi * k / N\n",
        "    w[w >= np. pi] = w[w >= np.pi] - 2 * np.pi\n",
        "\n",
        "    X = np.fft.fftshift(X)\n",
        "    w = np.fft.fftshift(w)\n",
        "    \n",
        "    return X, w"
      ]
    },
    {
      "cell_type": "markdown",
      "metadata": {
        "id": "k4bqZj5KNoSz"
      },
      "source": [
        "**3. Use your function ```DTFTsamples``` to compute DTFT samples of the Hamming window of length $N = 20$. Plot the magnitude of these DTFT samples versus frequency in rad/sample.**"
      ]
    },
    {
      "cell_type": "code",
      "execution_count": 96,
      "metadata": {
        "colab": {
          "base_uri": "https://localhost:8080/",
          "height": 404
        },
        "id": "23DKGjADNoS0",
        "outputId": "d92f8ad0-a30f-41bc-f726-9208e97a6a43"
      },
      "outputs": [
        {
          "output_type": "display_data",
          "data": {
            "text/plain": [
              "<Figure size 1152x432 with 1 Axes>"
            ],
            "image/png": "[encoded data removed]"
          },
          "metadata": {
            "needs_background": "light"
          }
        }
      ],
      "source": [
        "# insert your code here\n",
        "N = 20\n",
        "hamm_window = hamming(N)\n",
        "hamm_window_dtft_samples, w_dtft_samples = DTFTsamples(hamm_window)\n",
        "\n",
        "plt.title(\"Magnitude of Hamming Window DTFT Samples with N = 20\")\n",
        "plt.ylabel(\"Magnitude DTFT Samples\")\n",
        "plt.xlabel(\"Radians/Sample\")\n",
        "plt.stem(w_dtft_samples, np.abs(hamm_window_dtft_samples))\n",
        "plt.show()\n"
      ]
    },
    {
      "cell_type": "markdown",
      "metadata": {
        "id": "1muDz35VNoS0"
      },
      "source": [
        "<h3 style=\"color:red;\"><left>Exercise 2.2: Zero Padding</left></h3>"
      ]
    },
    {
      "cell_type": "markdown",
      "metadata": {
        "id": "X-48v_h5NoS0"
      },
      "source": [
        "**1. For $N=50$, compute the vector $x$ containing the values $x[0],\\dots, x[N − 1]$, then compute the samples of $X[k]$ using your function ```DTFTsamples()```, and finally plot the magnitude of the DTFT samples versus frequency in rad/sample.**"
      ]
    },
    {
      "cell_type": "code",
      "execution_count": 97,
      "metadata": {
        "colab": {
          "base_uri": "https://localhost:8080/",
          "height": 404
        },
        "id": "KiZU7jgVNoS0",
        "outputId": "30290333-472c-4b22-d0ce-9026fa87efcd"
      },
      "outputs": [
        {
          "output_type": "display_data",
          "data": {
            "text/plain": [
              "<Figure size 1152x432 with 1 Axes>"
            ],
            "image/png": "[encoded data removed]"
          },
          "metadata": {
            "needs_background": "light"
          }
        }
      ],
      "source": [
        "# insert your code here\n",
        "N = 50\n",
        "n = np.arange(50)\n",
        "x_n = np.sin(0.1 * np.pi * n)\n",
        "\n",
        "x_dtft_samples, w_dtft_samples = DTFTsamples(x_n)\n",
        "\n",
        "plt.title(\"Magnitude of Eq (4) DTFT Samples with N = 50\")\n",
        "plt.ylabel(\"Magnitude DTFT Samples\")\n",
        "plt.xlabel(\"Radians/Sample\")\n",
        "plt.stem(w_dtft_samples, np.abs(x_dtft_samples))\n",
        "plt.show()"
      ]
    },
    {
      "cell_type": "markdown",
      "metadata": {
        "id": "pa9wrPk3NoS1"
      },
      "source": [
        "**2. For $N=100$, compute the vector $x$ containing the values $x[0],\\dots, x[N − 1]$, then compute the samples of $X[k]$ using your function ```DTFTsamples()```, and finally plot the magnitude of the DTFT samples versus frequency in rad/sample.**"
      ]
    },
    {
      "cell_type": "code",
      "execution_count": 98,
      "metadata": {
        "colab": {
          "base_uri": "https://localhost:8080/",
          "height": 404
        },
        "id": "y6dw73hJNoS1",
        "outputId": "f9db3f33-3154-4a65-fdd0-f23d19aec4be"
      },
      "outputs": [
        {
          "output_type": "display_data",
          "data": {
            "text/plain": [
              "<Figure size 1152x432 with 1 Axes>"
            ],
            "image/png": "[encoded data removed]"
          },
          "metadata": {
            "needs_background": "light"
          }
        }
      ],
      "source": [
        "# insert your code here\n",
        "N = 100\n",
        "n = np.arange(N)\n",
        "x_n = np.sin(0.1 * np.pi * n)\n",
        "x_n[50:100] = 0\n",
        "\n",
        "x_dtft_samples, w_dtft_samples = DTFTsamples(x_n)\n",
        "\n",
        "plt.title(\"Magnitude of Eq (4) DTFT Samples with N = 100\")\n",
        "plt.ylabel(\"Magnitude DTFT Samples\")\n",
        "plt.xlabel(\"Radians/Sample\")\n",
        "plt.stem(w_dtft_samples, np.abs(x_dtft_samples))\n",
        "plt.show()\n"
      ]
    },
    {
      "cell_type": "markdown",
      "metadata": {
        "id": "PS1LzBoSNoS1"
      },
      "source": [
        "**3. Which plot looks more like the true DTFT?**"
      ]
    },
    {
      "cell_type": "markdown",
      "metadata": {
        "id": "aZf8IXAaNoS1"
      },
      "source": [
        "After analyzing the plots in Exercise 2.2, the plot with N = 100 looks more like the true DTFT compared to the plot with N = 50."
      ]
    },
    {
      "cell_type": "markdown",
      "metadata": {
        "id": "knFiOMK7NoS1"
      },
      "source": [
        "**3. Explain why the plots look so different.**"
      ]
    },
    {
      "cell_type": "markdown",
      "metadata": {
        "id": "xyLg4Zd9NoS2"
      },
      "source": [
        "When N = 50, there is 50 samples compared to when N = 100 samples, there is 100 samples. The more samples allows for a better visualization, especially helps with peaks and valleys."
      ]
    },
    {
      "cell_type": "markdown",
      "metadata": {
        "id": "dPetnJTqNoS2"
      },
      "source": [
        "<h3 style=\"color:red;\"><left>Exercise 3.1: Implementation of Divide-and-Conquer DFT</left></h3>"
      ]
    },
    {
      "cell_type": "markdown",
      "metadata": {
        "id": "uRsN8Rz4NoS2"
      },
      "source": [
        "**1. Complete the function `dcDFT` below.**"
      ]
    },
    {
      "cell_type": "code",
      "execution_count": 114,
      "metadata": {
        "id": "QuS3mFnLNoS2"
      },
      "outputs": [],
      "source": [
        "def dcDFT(x):\n",
        "    \"\"\"\n",
        "    Parameters:\n",
        "    ---\n",
        "    x: a vector of even length N\n",
        "    \n",
        "    Returns: the DFT of x\n",
        "    \"\"\"\n",
        "\n",
        "    N = len(x)\n",
        "    k = np.arange(N/2)\n",
        "    \n",
        "    # Step 1\n",
        "    # Separate the samples of x into even and odd points.\n",
        "    # Hint: The Python function x0 = x[0:N:2] can be used to obtain the “even” points.\n",
        "    x_even = x[0:N:2]\n",
        "    x_odd = x[1:N:2]\n",
        "    \n",
        "    # Step 2\n",
        "    # Use your function DFTsum to compute the two N/2 point DFT’s.\n",
        "    x_even_dft = DFTsum(x_even)\n",
        "    x_odd_dft = DFTsum(x_odd)\n",
        "    \n",
        "    # Step 3\n",
        "    # Multiply by the twiddle factors$  \n",
        "    # Step 4\n",
        "    # Combine the two DFT’s to form X\n",
        "    twiddle = np.exp(-1j * 2 * np.pi * k / N)\n",
        "    x_k = x_even_dft + x_odd_dft * twiddle\n",
        "    x_k_n2 = x_even_dft - x_odd_dft * twiddle\n",
        "    \n",
        "    X = np.concatenate((x_k, x_k_n2), axis = 0)\n",
        "\n",
        "    return X"
      ]
    },
    {
      "cell_type": "markdown",
      "metadata": {
        "id": "3F4FGVOhNoS2"
      },
      "source": [
        "**2. Test your function ```dcDFT``` by using it to compute and plot the DFT’s of the following signals:**\n",
        "\n",
        "* $x[n]=\\delta[n]$ for $N=10$\n",
        "* $x[n]=1$ for $N=10$\n",
        "* $x[n]=e^{j2\\pi n/10}$ for $N=10$\n",
        "\n",
        "**Make sure you plot the results in separate cells.**"
      ]
    },
    {
      "cell_type": "code",
      "execution_count": 100,
      "metadata": {
        "colab": {
          "base_uri": "https://localhost:8080/",
          "height": 404
        },
        "id": "OcF0UjA-NoS2",
        "outputId": "988b6bd2-e84c-45ea-839f-ad2dd33284e6"
      },
      "outputs": [
        {
          "output_type": "display_data",
          "data": {
            "text/plain": [
              "<Figure size 1152x432 with 1 Axes>"
            ],
            "image/png": "[encoded data removed]"
          },
          "metadata": {
            "needs_background": "light"
          }
        }
      ],
      "source": [
        "# first signal\n",
        "N = 10\n",
        "n = np.linspace(0, N-1, N)\n",
        "xn = (n == 0).astype(int)\n",
        "xn_dft = dcDFT(xn)\n",
        "\n",
        "plt.title(\"Magnitude of x[n]=δ[n] DFT with N = 10\")\n",
        "plt.ylabel(\"Magnitude DFT\")\n",
        "plt.xlabel(\"k\")\n",
        "plt.stem(np.abs(xn_dft))\n",
        "plt.show()\n"
      ]
    },
    {
      "cell_type": "code",
      "execution_count": 101,
      "metadata": {
        "colab": {
          "base_uri": "https://localhost:8080/",
          "height": 404
        },
        "id": "3X36HP4aNoS2",
        "outputId": "65bf9364-9f6c-4248-b70a-212850dfff01"
      },
      "outputs": [
        {
          "output_type": "display_data",
          "data": {
            "text/plain": [
              "<Figure size 1152x432 with 1 Axes>"
            ],
            "image/png": "[encoded data removed]"
          },
          "metadata": {
            "needs_background": "light"
          }
        }
      ],
      "source": [
        "# second signal\n",
        "N = 10\n",
        "n = np.linspace(0, N-1, N)\n",
        "xn = (n < N).astype(int)\n",
        "xn_dft = dcDFT(xn)\n",
        "\n",
        "plt.title(\"Magnitude of x[n]=1 DFT with N = 10\")\n",
        "plt.ylabel(\"Magnitude DFT\")\n",
        "plt.xlabel(\"k\")\n",
        "plt.stem(np.abs(xn_dft))\n",
        "plt.show()\n"
      ]
    },
    {
      "cell_type": "code",
      "execution_count": 116,
      "metadata": {
        "colab": {
          "base_uri": "https://localhost:8080/",
          "height": 404
        },
        "id": "qNmMGN2QNoS3",
        "outputId": "090e2a0b-585c-4d76-c943-5dfa5f4002a8"
      },
      "outputs": [
        {
          "output_type": "display_data",
          "data": {
            "text/plain": [
              "<Figure size 1152x432 with 1 Axes>"
            ],
            "image/png": "[encoded data removed]"
          },
          "metadata": {
            "needs_background": "light"
          }
        }
      ],
      "source": [
        "# third signal\n",
        "N = 10\n",
        "n = np.linspace(0, N-1, N)\n",
        "xn = np.exp(1j*2*np.pi*n/10)\n",
        "xn_dft = dcDFT(xn)\n",
        "\n",
        "plt.title(\"Magnitude of x[n]=e^(j2πn/8) DFT with N = 10\")\n",
        "plt.ylabel(\"Magnitude DFT\")\n",
        "plt.xlabel(\"k\")\n",
        "plt.stem(np.abs(xn_dft))\n",
        "plt.show()\n"
      ]
    },
    {
      "cell_type": "markdown",
      "metadata": {
        "id": "nvJBPzdSNoS3"
      },
      "source": [
        "**3. Determine the number of multiplies that are required in this approach to computing an $N$ point DFT. (Consider a multiply to be one multiplication of real or complex numbers.)**\n",
        "\n",
        "**Hint:** Refer to the diagram of Figure 1, and remember to consider the $N/2$ point DFTs."
      ]
    },
    {
      "cell_type": "markdown",
      "metadata": {
        "id": "P03RJKxoNoS3"
      },
      "source": [
        "Number of multiplies that are required to compute an  N  point DFT: N"
      ]
    },
    {
      "cell_type": "markdown",
      "metadata": {
        "id": "qDQo5TBuNoS3"
      },
      "source": [
        "<h3 style=\"color:red;\"><left>Exercise 3.2: Recursive Divide and Conquer (Part 1)</left></h3>"
      ]
    },
    {
      "cell_type": "markdown",
      "metadata": {
        "id": "_3yTuHlmNoS3"
      },
      "source": [
        "**1. Complete the Python functions below to compute the $2$, $4$, and $8$-point FFT’s.**\n",
        "\n",
        "**Note:** The function ```FFT2``` should directly compute the $2$-point DFT using (13), but the functions ```FFT4``` and ```FFT8``` should compute their respective FFT’s using the divide and conquer strategy. This means that ```FFT8``` should call ```FFT4```, and ```FFT4``` should call ```FFT2```."
      ]
    },
    {
      "cell_type": "code",
      "execution_count": 103,
      "metadata": {
        "id": "wP8-_NC3NoS3"
      },
      "outputs": [],
      "source": [
        "def FFT2(x):\n",
        "    \"\"\"\n",
        "    Parameters:\n",
        "    ---\n",
        "    x: the input signal\n",
        "    \n",
        "    Returns:\n",
        "    ---\n",
        "    X: the 2-point DFT of x\n",
        "    \"\"\"\n",
        "\n",
        "    N = len(x)\n",
        "    k = np.arange(N/2)\n",
        "    twiddle = np.exp(-1j * 2 * np.pi * k / N)\n",
        "\n",
        "    x_even = x[0:N:2]\n",
        "    x_odd = x[1:N:2]\n",
        "\n",
        "    X_0 = x_even + x_odd * twiddle\n",
        "    X_1 = x_even - x_odd * twiddle\n",
        "\n",
        "    X = np.concatenate((X_0, X_1), axis = 0)\n",
        "    return X"
      ]
    },
    {
      "cell_type": "code",
      "execution_count": 104,
      "metadata": {
        "id": "-VZfzz4CNoS3"
      },
      "outputs": [],
      "source": [
        "def FFT4(x):\n",
        "    \"\"\"\n",
        "    Parameters:\n",
        "    ---\n",
        "    x: the input signal\n",
        "    \n",
        "    Returns:\n",
        "    ---\n",
        "    X: the 4-point DFT of x\n",
        "    \"\"\"\n",
        "    N = len(x)\n",
        "    k = np.arange(N/2)\n",
        "    twiddle = np.exp(-1j * 2 * np.pi * k / N)\n",
        "\n",
        "    x_even = x[0:N:2]\n",
        "    x_odd = x[1:N:2]\n",
        "    \n",
        "    X_0 = FFT2(x_even) + FFT2(x_odd) * twiddle\n",
        "    X_1 = FFT2(x_even) - FFT2(x_odd) * twiddle\n",
        "\n",
        "    X = np.concatenate((X_0, X_1), axis = 0)\n",
        "    return X"
      ]
    },
    {
      "cell_type": "code",
      "execution_count": 105,
      "metadata": {
        "id": "5gy3eWudNoS3"
      },
      "outputs": [],
      "source": [
        "def FFT8(x):\n",
        "    \"\"\"\n",
        "    Parameters:\n",
        "    ---\n",
        "    x: the input signal\n",
        "    \n",
        "    Returns:\n",
        "    ---\n",
        "    X: the 8-point DFT of x\n",
        "    \"\"\"\n",
        "    N = len(x)\n",
        "    k = np.arange(N/2)\n",
        "    twiddle = np.exp(-1j * 2 * np.pi * k / N)\n",
        "\n",
        "    x_even = x[0:N:2]\n",
        "    x_odd = x[1:N:2]\n",
        "    \n",
        "    X_0 = FFT4(x_even) + FFT4(x_odd) * twiddle\n",
        "    X_1 = FFT4(x_even) - FFT4(x_odd) * twiddle\n",
        "\n",
        "    X = np.concatenate((X_0, X_1), axis = 0)\n",
        "    return X"
      ]
    },
    {
      "cell_type": "markdown",
      "metadata": {
        "id": "mLYGdSn1NoS3"
      },
      "source": [
        "**2. Test your function ```FFT8``` by using it to compute the DFT’s of the following signals. Compare these results to the previous ones.**\n",
        "\n",
        "* $x[n]=\\delta[n]$ for $N=8$\n",
        "* $x[n]=1$ for $N=8$\n",
        "* $x[n]=e^{j2\\pi n/8}$ for $N=8$\n",
        "\n",
        "**Make sure you plot the results in separate cells.**"
      ]
    },
    {
      "cell_type": "code",
      "execution_count": 106,
      "metadata": {
        "colab": {
          "base_uri": "https://localhost:8080/",
          "height": 404
        },
        "id": "ORSe6v47NoS4",
        "outputId": "d2c1a196-aaec-4193-d5f6-be61f0a79729"
      },
      "outputs": [
        {
          "output_type": "display_data",
          "data": {
            "text/plain": [
              "<Figure size 1152x432 with 1 Axes>"
            ],
            "image/png": "[encoded data removed]"
          },
          "metadata": {
            "needs_background": "light"
          }
        }
      ],
      "source": [
        "# first signal\n",
        "N = 8\n",
        "n = np.linspace(0, N-1, N)\n",
        "xn = (n == 0).astype(int)\n",
        "xn_dft = FFT8(xn)\n",
        "\n",
        "plt.title(\"Magnitude of x[n]=δ[n] DFT with N = 8\")\n",
        "plt.ylabel(\"Magnitude DFT\")\n",
        "plt.xlabel(\"k\")\n",
        "plt.stem(np.abs(xn_dft))\n",
        "plt.show()\n"
      ]
    },
    {
      "cell_type": "code",
      "execution_count": 107,
      "metadata": {
        "colab": {
          "base_uri": "https://localhost:8080/",
          "height": 404
        },
        "id": "TYFzHs8iNoS4",
        "outputId": "c9e87347-c5c1-4e56-a33a-4e6ff4a55daf"
      },
      "outputs": [
        {
          "output_type": "display_data",
          "data": {
            "text/plain": [
              "<Figure size 1152x432 with 1 Axes>"
            ],
            "image/png": "[encoded data removed]"
          },
          "metadata": {
            "needs_background": "light"
          }
        }
      ],
      "source": [
        "# second signal\n",
        "N = 8\n",
        "n = np.linspace(0, N-1, N)\n",
        "xn = (n < N).astype(int)\n",
        "xn_dft = FFT8(xn)\n",
        "\n",
        "plt.title(\"Magnitude of x[n]=1 DFT with N = 8\")\n",
        "plt.ylabel(\"Magnitude DFT\")\n",
        "plt.xlabel(\"k\")\n",
        "plt.stem(np.abs(xn_dft))\n",
        "plt.show()\n"
      ]
    },
    {
      "cell_type": "code",
      "execution_count": 108,
      "metadata": {
        "colab": {
          "base_uri": "https://localhost:8080/",
          "height": 404
        },
        "id": "2iPu8eS8NoS4",
        "outputId": "9d484be7-3b35-4da3-8596-ee02210c886d"
      },
      "outputs": [
        {
          "output_type": "display_data",
          "data": {
            "text/plain": [
              "<Figure size 1152x432 with 1 Axes>"
            ],
            "image/png": "[encoded data removed]"
          },
          "metadata": {
            "needs_background": "light"
          }
        }
      ],
      "source": [
        "# third signal\n",
        "N = 8\n",
        "n = np.linspace(0, N-1, N)\n",
        "xn = np.exp(1j*2*np.pi*n/8)\n",
        "xn_dft = FFT8(xn)\n",
        "\n",
        "plt.title(\"Magnitude of x[n]=e^(j2πn/8) DFT with N = 8\")\n",
        "plt.ylabel(\"Magnitude DFT\")\n",
        "plt.xlabel(\"k\")\n",
        "plt.stem(np.abs(xn_dft))\n",
        "plt.show()\n",
        "\n"
      ]
    },
    {
      "cell_type": "markdown",
      "metadata": {
        "id": "y3WItRZkNoS4"
      },
      "source": [
        "**3. List the output (not plot) of ```FFT8``` for the case $x[n] = 1$ for $N = 8$.**"
      ]
    },
    {
      "cell_type": "code",
      "execution_count": 109,
      "metadata": {
        "colab": {
          "base_uri": "https://localhost:8080/"
        },
        "id": "HPN3onERNoS4",
        "outputId": "c68177d3-ed23-4dbb-b188-58568da267f3"
      },
      "outputs": [
        {
          "output_type": "stream",
          "name": "stdout",
          "text": [
            "[8.+0.j 0.+0.j 0.+0.j 0.+0.j 0.+0.j 0.+0.j 0.+0.j 0.+0.j]\n"
          ]
        }
      ],
      "source": [
        "# insert your code here\n",
        "N = 8\n",
        "n = np.linspace(0, N-1, N)\n",
        "xn = (n < N).astype(int)\n",
        "xn_dft = FFT8(xn)\n",
        "\n",
        "print(xn_dft)"
      ]
    },
    {
      "cell_type": "markdown",
      "metadata": {
        "id": "3k3IywSGNoS5"
      },
      "source": [
        "**4. Calculate the total number of multiplies by twiddle factors required for your 8-point FFT. (A multiply is a multiplication by a real or complex number.)**"
      ]
    },
    {
      "cell_type": "markdown",
      "metadata": {
        "id": "DpD1pYuzNoS5"
      },
      "source": [
        "Total number of multiplies by twiddle factors required for your 8-point FFT: 8"
      ]
    },
    {
      "cell_type": "markdown",
      "metadata": {
        "id": "yjk0G1nvNoS5"
      },
      "source": [
        "**5. Determine a formula for the number of multiplies required for an $N = 2^p$ point FFT. Leave the expression in terms of $N$ and $p$. How does this compare to the number of multiplies required for direct implementation when $p = 10$?**"
      ]
    },
    {
      "cell_type": "markdown",
      "metadata": {
        "id": "1ePgJ9x9NoS5"
      },
      "source": [
        "insert your answer here"
      ]
    },
    {
      "cell_type": "markdown",
      "metadata": {
        "id": "u3MYjpi8NoS5"
      },
      "source": [
        "<h3 style=\"color:red;\"><left>Exercise 3.3: Recursive Divide and Conquer (Part 2)</left></h3>"
      ]
    },
    {
      "cell_type": "markdown",
      "metadata": {
        "id": "ItIJIwysNoS5"
      },
      "source": [
        "**1. Complete the recursive function `fft_stage` below to perform one stage of the FFT algorithm for a power-of-2 length signal.**\n",
        "\n",
        "**Note:** the body of this function should look very similar to previous functions written in this lab."
      ]
    },
    {
      "cell_type": "code",
      "execution_count": 110,
      "metadata": {
        "id": "uYO2dmEFNoS5"
      },
      "outputs": [],
      "source": [
        "def fft_stage(x):\n",
        "    \"\"\"\n",
        "    Performs one stage of the FFT algorithm for a power-of-2 length signal\n",
        "    \n",
        "    Parameters:\n",
        "    ---\n",
        "    x: a power-of-2 length signal\n",
        "    \n",
        "    Returns:\n",
        "    ---\n",
        "    X: the DFT of the inpu signal\n",
        "    \"\"\"\n",
        "    \n",
        "    # Step 1\n",
        "    # Determine the length of the input signal.\n",
        "    # Step 2\n",
        "    # If N == 2, then the function should just compute the 2-pt DFT as in equation (13), and then return.\n",
        "    # Step 3\n",
        "    # If N > 2, then the function should perform the FFT steps described previously \n",
        "    # (i.e. decimate, compute (N/2)-pt DFTs, re-combine), \n",
        "    # calling fft_stage(x) to compute the (N/2)-pt DFTs.\n",
        "    \n",
        "    N = len(x)\n",
        "    k = np.arange(N/2)\n",
        "    twiddle = np.exp(-1j * 2 * np.pi * k / N)\n",
        "    x_even = x[0:N:2]\n",
        "    x_odd = x[1:N:2]\n",
        "    \n",
        "    if(N == 2):\n",
        "      X_0 = x_even + x_odd * twiddle\n",
        "      X_1 = x_even - x_odd * twiddle\n",
        "      X = np.concatenate((X_0, X_1), axis = 0)\n",
        "      return X \n",
        "    elif(N > 2):\n",
        "      X_0 = fft_stage(x_even) + fft_stage(x_odd) * twiddle\n",
        "      X_1 = fft_stage(x_even) - fft_stage(x_odd) * twiddle\n",
        "      X = np.concatenate((X_0, X_1), axis = 0)\n",
        "      return X \n",
        "\n",
        "    return [0]"
      ]
    },
    {
      "cell_type": "markdown",
      "metadata": {
        "id": "juNfD9oTNoS5"
      },
      "source": [
        "**2. Test ```fft_stage(x)``` on the three 8-point signals given above, and verify that it returns the same results as ```FFT8(x)```.**\n",
        "\n",
        "**Make sure you plot the results in separate cells.**"
      ]
    },
    {
      "cell_type": "code",
      "execution_count": 111,
      "metadata": {
        "colab": {
          "base_uri": "https://localhost:8080/",
          "height": 404
        },
        "id": "b5RFxi_PNoS5",
        "outputId": "9b86e7a2-1115-45df-ecf6-c700a43ad15b"
      },
      "outputs": [
        {
          "output_type": "display_data",
          "data": {
            "text/plain": [
              "<Figure size 1152x432 with 1 Axes>"
            ],
            "image/png": "[encoded data removed]"
          },
          "metadata": {
            "needs_background": "light"
          }
        }
      ],
      "source": [
        "# first signal\n",
        "N = 8\n",
        "n = np.linspace(0, N-1, N)\n",
        "xn = (n == 0).astype(int)\n",
        "xn_dft = fft_stage(xn)\n",
        "\n",
        "plt.title(\"Magnitude of x[n]=δ[n] DFT with N = 8\")\n",
        "plt.ylabel(\"Magnitude DFT\")\n",
        "plt.xlabel(\"k\")\n",
        "plt.stem(np.abs(xn_dft))\n",
        "plt.show()"
      ]
    },
    {
      "cell_type": "code",
      "execution_count": 112,
      "metadata": {
        "colab": {
          "base_uri": "https://localhost:8080/",
          "height": 404
        },
        "id": "Afp4E5oYNoS5",
        "outputId": "a37388c9-fbf8-4d61-9a91-56b3546464e2"
      },
      "outputs": [
        {
          "output_type": "display_data",
          "data": {
            "text/plain": [
              "<Figure size 1152x432 with 1 Axes>"
            ],
            "image/png": "[encoded data removed]"
          },
          "metadata": {
            "needs_background": "light"
          }
        }
      ],
      "source": [
        "# second signal\n",
        "N = 8\n",
        "n = np.linspace(0, N-1, N)\n",
        "xn = (n < N).astype(int)\n",
        "xn_dft = fft_stage(xn)\n",
        "\n",
        "plt.title(\"Magnitude of x[n]=1 DFT with N = 8\")\n",
        "plt.ylabel(\"Magnitude DFT\")\n",
        "plt.xlabel(\"k\")\n",
        "plt.stem(np.abs(xn_dft))\n",
        "plt.show()"
      ]
    },
    {
      "cell_type": "code",
      "execution_count": 113,
      "metadata": {
        "colab": {
          "base_uri": "https://localhost:8080/",
          "height": 404
        },
        "id": "crNbsFyNNoS6",
        "outputId": "a96d8eb0-8979-4dd7-88c2-3347a3e07bfe"
      },
      "outputs": [
        {
          "output_type": "display_data",
          "data": {
            "text/plain": [
              "<Figure size 1152x432 with 1 Axes>"
            ],
            "image/png": "[encoded data removed]"
          },
          "metadata": {
            "needs_background": "light"
          }
        }
      ],
      "source": [
        "# third signal\n",
        "N = 8\n",
        "n = np.linspace(0, N-1, N)\n",
        "xn = np.exp(1j*2*np.pi*n/8)\n",
        "xn_dft = fft_stage(xn)\n",
        "\n",
        "plt.title(\"Magnitude of x[n]=e^(j2πn/8) DFT with N = 8\")\n",
        "plt.ylabel(\"Magnitude DFT\")\n",
        "plt.xlabel(\"k\")\n",
        "plt.stem(np.abs(xn_dft))\n",
        "plt.show()\n"
      ]
    },
    {
      "cell_type": "markdown",
      "metadata": {
        "id": "7YPchqbZNoS6"
      },
      "source": [
        "<h2 style=\"color:salmon;\"><left>4. References</left></h2>"
      ]
    },
    {
      "cell_type": "markdown",
      "metadata": {
        "id": "nDjzjT9PNoS6"
      },
      "source": [
        "[1] J. W. Cooley and J. W. Tukey, “An algorithm for the machine calculation of complex\n",
        "Fourier series,” Mathematics of Computation, vol. 19, no. 90, p. 297-301, April 1965."
      ]
    }
  ],
  "metadata": {
    "kernelspec": {
      "display_name": "Python 3 (ipykernel)",
      "language": "python",
      "name": "python3"
    },
    "language_info": {
      "codemirror_mode": {
        "name": "ipython",
        "version": 3
      },
      "file_extension": ".py",
      "mimetype": "text/x-python",
      "name": "python",
      "nbconvert_exporter": "python",
      "pygments_lexer": "ipython3",
      "version": "3.8.1"
    },
    "colab": {
      "provenance": []
    }
  },
  "nbformat": 4,
  "nbformat_minor": 0
}